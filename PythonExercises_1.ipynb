{
  "nbformat": 4,
  "nbformat_minor": 0,
  "metadata": {
    "colab": {
      "provenance": [],
      "mount_file_id": "1bVBfPAdn0IqaXmru96TYrzRIV_jUI8jA",
      "authorship_tag": "ABX9TyM6iybV6TGdrSyvf2OH/Cen",
      "include_colab_link": true
    },
    "kernelspec": {
      "name": "python3",
      "display_name": "Python 3"
    },
    "language_info": {
      "name": "python"
    }
  },
  "cells": [
    {
      "cell_type": "markdown",
      "metadata": {
        "id": "view-in-github",
        "colab_type": "text"
      },
      "source": [
        "<a href=\"https://colab.research.google.com/github/Aimar02/Adrian-Avila-1956344-Group-002/blob/main/PythonExercises_1.ipynb\" target=\"_parent\"><img src=\"https://colab.research.google.com/assets/colab-badge.svg\" alt=\"Open In Colab\"/></a>"
      ]
    },
    {
      "cell_type": "markdown",
      "source": [
        "## ***Adrian Aimar Avila Sanchez - 1956344 - Group: 002***\n",
        "A2.- Python exercises.\n",
        "\n",
        "\n"
      ],
      "metadata": {
        "id": "qHlpDaofa-Mg"
      }
    },
    {
      "cell_type": "markdown",
      "source": [
        "1. **Text Analysis Tool**: Create a Python program that reads a text file and performs various analyses on its content. The program should: Count the number of words, sentences, and paragraphs. Calculate the average word length. Identify the most common words and their frequencies."
      ],
      "metadata": {
        "id": "bjzqGRn5AIgv"
      }
    },
    {
      "cell_type": "code",
      "execution_count": 12,
      "metadata": {
        "colab": {
          "base_uri": "https://localhost:8080/"
        },
        "id": "putJMuYV6gGL",
        "outputId": "b0ee53b1-c6a2-4d71-c3d1-f7356791f9bf"
      },
      "outputs": [
        {
          "output_type": "stream",
          "name": "stdout",
          "text": [
            "Drive already mounted at /content/drive; to attempt to forcibly remount, call drive.mount(\"/content/drive\", force_remount=True).\n",
            "Words: 1664\n",
            "Sentences: 42\n",
            "Paragraphs: 1\n",
            "Average word length: 5.19 characters\n",
            "Most common words:\n",
            "y: 82 times\n",
            "de: 81 times\n",
            "la: 73 times\n",
            "el: 61 times\n",
            "se: 41 times\n",
            "en: 39 times\n",
            "que: 38 times\n",
            "los: 37 times\n",
            "a: 25 times\n",
            "es: 22 times\n"
          ]
        }
      ],
      "source": [
        "import re\n",
        "from collections import Counter\n",
        "from google.colab import drive\n",
        "drive.mount('/content/drive')\n",
        "\n",
        "# Specify the path to your text file\n",
        "file_path = '/content/drive/MyDrive/AI/Reporte.txt'\n",
        "\n",
        "def read_file(file_path):\n",
        "    try:\n",
        "        with open(file_path, 'r', encoding='utf-8') as file:\n",
        "            text = file.read()\n",
        "        return text\n",
        "    except FileNotFoundError:\n",
        "        print(f\"Error:'{file_path}' not found.\")\n",
        "        return None\n",
        "#Words\n",
        "def con_pal(text):\n",
        "    words = re.findall(r'\\b\\w+\\b', text)\n",
        "    return len(words)\n",
        "\n",
        "#Function Sentences\n",
        "def con_ora(text):\n",
        "    sentences = re.split(r'[.!?]', text)\n",
        "    return len([s for s in sentences if s.strip()])\n",
        "\n",
        "#Function Paragraph\n",
        "def con_parra(text):\n",
        "    paragraphs = text.split('\\n\\n')\n",
        "    return len([p for p in paragraphs if p.strip()])\n",
        "\n",
        "#Function Total word length\n",
        "def longitud_palabra(text):\n",
        "    words = re.findall(r'\\b\\w+\\b', text)\n",
        "    total_word_length = sum(len(word) for word in words)\n",
        "    return total_word_length / len(words)\n",
        "\n",
        "#Function Common Words\n",
        "def palabra_comunes(text, top_n=10):\n",
        "    words = re.findall(r'\\b\\w+\\b', text)\n",
        "    word_counts = Counter(words)\n",
        "    return word_counts.most_common(top_n)\n",
        "\n",
        "text = read_file(file_path)\n",
        "if text:\n",
        "    num_words = con_pal(text)\n",
        "    num_sentences = con_ora(text)\n",
        "    num_paragraphs = con_parra(text)\n",
        "    avg_word_length = longitud_palabra(text)\n",
        "    common_words = palabra_comunes(text)\n",
        "    print(f\"Words: {num_words}\")\n",
        "    print(f\"Sentences: {num_sentences}\")\n",
        "    print(f\"Paragraphs: {num_paragraphs}\")\n",
        "    print(f\"Average word length: {avg_word_length:.2f} characters\")\n",
        "    print(\"Most common words:\")\n",
        "    for word, frequency in common_words:\n",
        "        print(f\"{word}: {frequency} times\")\n"
      ]
    },
    {
      "cell_type": "markdown",
      "source": [
        "2. **Hangman Game:** Create a Python program that allows a user to play the game of Hangman. The program should randomly select a word from a predefined list, and the player must guess letters one at a time until they guess the word correctly or run out of attempts."
      ],
      "metadata": {
        "id": "Vjc7kRUuIH6b"
      }
    },
    {
      "cell_type": "code",
      "source": [
        "import random\n",
        "# List of 30 words to choose from\n",
        "word_list = [\"coche\",\"perro\",\"gato\",\"casa\",\"pelota\",\"computadora\",\"montaña\",\"playa\",\"sol\",\"luna\",\n",
        "             \"cafe\",\"libro\",\"amigo\",\"ciudad\",\"viaje\",\"trabajo\",\"amor\",\"familia\",\"felicidad\",\"musica\",\n",
        "             \"comida\",\"deporte\",\"naturaleza\",\"tiempo\",\"agua\",\"cielo\",\"flor\",\"fiesta\",\"salud\",\"dinero\"]\n",
        "word= random.choice(word_list)\n",
        "\n",
        "# Convert the word to a list of characters for tracking progress\n",
        "word_progress = [\"_\" for _ in word]\n",
        "max_liv = 6\n",
        "lives = max_liv\n",
        "gue_let = []\n",
        "\n",
        "while True:\n",
        "    print(\" \".join(word_progress))\n",
        "    guess = input(\"Guess a letter: \").lower()\n",
        "    if len(guess) != 1 or not guess.isalpha():\n",
        "        print(\"Please enter a single letter.\")\n",
        "        continue\n",
        "\n",
        "# Checks if the player has already guessed the letter.\n",
        "    if guess in gue_let:\n",
        "        print(\"You already guessed that letter.\")\n",
        "        continue\n",
        "    gue_let.append(guess)#To add element to the end of the list\n",
        "\n",
        "# Check if the guessed letter is in the hidden word.\n",
        "    if guess in word:\n",
        "        for i in range(len(word)):\n",
        "            if word[i] == guess:\n",
        "                word_progress[i] = guess # Update word progress with guessed letter\n",
        "    else:\n",
        "        print(f\"{guess} isn't in the word.\")\n",
        "        lives -= 1\n",
        "\n",
        "# Checks if the player has guessed the entire word.\n",
        "    if \"\".join(word_progress) == word:\n",
        "        print(f\"You win, the word is: {word}\")\n",
        "        break\n",
        "    elif lives == 0:\n",
        "        print(f\"Loser, the word was: {word}\")\n",
        "        break\n",
        "    print(f\"Lives remaining: {lives}\")  # Imprime el número de intentos restantes.\n"
      ],
      "metadata": {
        "colab": {
          "base_uri": "https://localhost:8080/"
        },
        "id": "FsJ65wXmIgXD",
        "outputId": "e7c9660e-010f-44bf-baa2-94a628f93ede"
      },
      "execution_count": 13,
      "outputs": [
        {
          "output_type": "stream",
          "name": "stdout",
          "text": [
            "_ _ _ _ _\n",
            "Guess a letter: a\n",
            "a isn't in the word.\n",
            "Lives remaining: 5\n",
            "_ _ _ _ _\n",
            "Guess a letter: e\n",
            "Lives remaining: 5\n",
            "_ e _ _ _\n",
            "Guess a letter: i\n",
            "i isn't in the word.\n",
            "Lives remaining: 4\n",
            "_ e _ _ _\n",
            "Guess a letter: o\n",
            "Lives remaining: 4\n",
            "_ e _ _ o\n",
            "Guess a letter: p\n",
            "Lives remaining: 4\n",
            "p e _ _ o\n",
            "Guess a letter: r\n",
            "You win, the word is: perro\n"
          ]
        }
      ]
    },
    {
      "cell_type": "markdown",
      "source": [
        "3. **Number Guessing Game:** Create a program that generates a random number between 1 and 100, and then asks the user to guess the number. The program should provide hints to the user if the guessed number is greater or less than the target number, and keep asking for a new guess until the user guesses correctly.\n"
      ],
      "metadata": {
        "id": "jqs9Ggt8KNr8"
      }
    },
    {
      "cell_type": "code",
      "source": [
        "import random\n",
        "# Generate a random number between 1 and 100\n",
        "num = random.randint(1, 100)\n",
        "a = 0\n",
        "print(\"Guess the number between 1 and 100.\")\n",
        "while True:\n",
        "    try:\n",
        "        guess = int(input(\"Take a guess: \"))\n",
        "        a += 1\n",
        "        #Tips of the number\n",
        "        if guess < num:\n",
        "            print(\"Higher\")\n",
        "        elif guess > num:\n",
        "            print(\"Lower\")\n",
        "        else:\n",
        "            print(f\"You win in {a} attempts, the number is {num}\")\n",
        "            break\n",
        "\n",
        "    except ValueError:\n",
        "        print(\"Invalid input. Please enter a valid number between 1 and 100.\")"
      ],
      "metadata": {
        "colab": {
          "base_uri": "https://localhost:8080/"
        },
        "id": "S8D674XaVC0Y",
        "outputId": "a90d01d0-317c-4251-a231-6be5955b2eda"
      },
      "execution_count": 14,
      "outputs": [
        {
          "output_type": "stream",
          "name": "stdout",
          "text": [
            "Guess the number between 1 and 100.\n",
            "Take a guess: 43\n",
            "Lower\n",
            "Take a guess: 21\n",
            "Lower\n",
            "Take a guess: 15\n",
            "Lower\n",
            "Take a guess: 10\n",
            "Lower\n",
            "Take a guess: 5}\n",
            "Invalid input. Please enter a valid number between 1 and 100.\n",
            "Take a guess: 5\n",
            "Higher\n",
            "Take a guess: 8\n",
            "You win in 6 attempts, the number is 8\n"
          ]
        }
      ]
    }
  ]
}